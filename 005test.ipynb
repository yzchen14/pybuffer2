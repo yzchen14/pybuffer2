{
 "cells": [
  {
   "cell_type": "code",
   "execution_count": 29,
   "metadata": {},
   "outputs": [],
   "source": []
  },
  {
   "cell_type": "code",
   "execution_count": 35,
   "metadata": {},
   "outputs": [],
   "source": [
    "button7location = pyautogui.locateOnScreen('001.png',grayscale=True, confidence=.8)\n",
    "button7location\n",
    "pyautogui.moveTo(button7location)"
   ]
  },
  {
   "cell_type": "code",
   "execution_count": 47,
   "metadata": {
    "scrolled": true
   },
   "outputs": [
    {
     "name": "stdout",
     "output_type": "stream",
     "text": [
      "Box(left=1451, top=514, width=53, height=56)\n",
      "Click\n",
      "Box(left=152, top=581, width=53, height=56)\n",
      "Click\n",
      "wait\n",
      "Box(left=1451, top=514, width=53, height=56)\n",
      "Click\n",
      "Box(left=152, top=581, width=53, height=56)\n",
      "Click\n",
      "wait\n",
      "Box(left=1451, top=514, width=53, height=56)\n",
      "Click\n",
      "Box(left=152, top=581, width=53, height=56)\n",
      "Click\n",
      "wait\n",
      "Box(left=1451, top=514, width=53, height=56)\n",
      "Click\n",
      "Box(left=152, top=581, width=53, height=56)\n",
      "Click\n",
      "wait\n",
      "Box(left=1451, top=514, width=53, height=56)\n",
      "Click\n",
      "Box(left=152, top=581, width=53, height=56)\n",
      "Click\n",
      "wait\n",
      "Box(left=1451, top=514, width=53, height=56)\n",
      "Click\n",
      "Box(left=152, top=581, width=53, height=56)\n",
      "Click\n",
      "wait\n",
      "Box(left=1451, top=514, width=53, height=56)\n",
      "Click\n",
      "Box(left=152, top=581, width=53, height=56)\n",
      "Click\n",
      "wait\n",
      "Box(left=1451, top=514, width=53, height=56)\n",
      "Click\n",
      "Box(left=152, top=581, width=53, height=56)\n",
      "Click\n",
      "wait\n"
     ]
    },
    {
     "ename": "KeyboardInterrupt",
     "evalue": "",
     "output_type": "error",
     "traceback": [
      "\u001b[1;31m---------------------------------------------------------------------------\u001b[0m",
      "\u001b[1;31mKeyboardInterrupt\u001b[0m                         Traceback (most recent call last)",
      "\u001b[1;32m<ipython-input-47-4b2ec34bbdd9>\u001b[0m in \u001b[0;36m<module>\u001b[1;34m\u001b[0m\n\u001b[0;32m     10\u001b[0m         \u001b[0mtime\u001b[0m\u001b[1;33m.\u001b[0m\u001b[0msleep\u001b[0m\u001b[1;33m(\u001b[0m\u001b[1;36m0.2\u001b[0m\u001b[1;33m)\u001b[0m\u001b[1;33m\u001b[0m\u001b[1;33m\u001b[0m\u001b[0m\n\u001b[0;32m     11\u001b[0m     \u001b[0mprint\u001b[0m\u001b[1;33m(\u001b[0m\u001b[1;34m\"wait\"\u001b[0m\u001b[1;33m)\u001b[0m\u001b[1;33m\u001b[0m\u001b[1;33m\u001b[0m\u001b[0m\n\u001b[1;32m---> 12\u001b[1;33m     \u001b[0mtime\u001b[0m\u001b[1;33m.\u001b[0m\u001b[0msleep\u001b[0m\u001b[1;33m(\u001b[0m\u001b[1;36m5\u001b[0m\u001b[1;33m)\u001b[0m\u001b[1;33m\u001b[0m\u001b[1;33m\u001b[0m\u001b[0m\n\u001b[0m",
      "\u001b[1;31mKeyboardInterrupt\u001b[0m: "
     ]
    }
   ],
   "source": [
    "import pyautogui\n",
    "import time\n",
    "print(\"Code running\")\n",
    "while(True):\n",
    "    pyautogui.moveTo(20,20)\n",
    "    time.sleep(0.1)\n",
    "    button7location = pyautogui.locateAllOnScreen('001.png', confidence=.9)\n",
    "    for pos in button7location:\n",
    "        print(pos)\n",
    "        pyautogui.moveTo(pos)\n",
    "        pyautogui.click()\n",
    "        print(\"Click\")\n",
    "        time.sleep(0.2)\n",
    "    print(\"wait\")\n",
    "    time.sleep(5)"
   ]
  },
  {
   "cell_type": "code",
   "execution_count": null,
   "metadata": {},
   "outputs": [],
   "source": []
  }
 ],
 "metadata": {
  "hide_input": false,
  "kernelspec": {
   "display_name": "Python 3",
   "language": "python",
   "name": "python3"
  },
  "language_info": {
   "codemirror_mode": {
    "name": "ipython",
    "version": 3
   },
   "file_extension": ".py",
   "mimetype": "text/x-python",
   "name": "python",
   "nbconvert_exporter": "python",
   "pygments_lexer": "ipython3",
   "version": "3.7.7"
  },
  "toc": {
   "base_numbering": 1,
   "nav_menu": {},
   "number_sections": true,
   "sideBar": true,
   "skip_h1_title": false,
   "title_cell": "Table of Contents",
   "title_sidebar": "Contents",
   "toc_cell": false,
   "toc_position": {},
   "toc_section_display": true,
   "toc_window_display": false
  },
  "varInspector": {
   "cols": {
    "lenName": 16,
    "lenType": 16,
    "lenVar": 40
   },
   "kernels_config": {
    "python": {
     "delete_cmd_postfix": "",
     "delete_cmd_prefix": "del ",
     "library": "var_list.py",
     "varRefreshCmd": "print(var_dic_list())"
    },
    "r": {
     "delete_cmd_postfix": ") ",
     "delete_cmd_prefix": "rm(",
     "library": "var_list.r",
     "varRefreshCmd": "cat(var_dic_list()) "
    }
   },
   "types_to_exclude": [
    "module",
    "function",
    "builtin_function_or_method",
    "instance",
    "_Feature"
   ],
   "window_display": false
  }
 },
 "nbformat": 4,
 "nbformat_minor": 4
}
